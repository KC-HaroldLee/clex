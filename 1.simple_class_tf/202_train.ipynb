{
 "cells": [
  {
   "cell_type": "code",
   "execution_count": 1,
   "metadata": {},
   "outputs": [],
   "source": [
    "import os\n",
    "import shutil\n",
    "import math"
   ]
  },
  {
   "cell_type": "code",
   "execution_count": 2,
   "metadata": {},
   "outputs": [
    {
     "name": "stdout",
     "output_type": "stream",
     "text": [
      "True\n",
      "True\n",
      "True\n"
     ]
    }
   ],
   "source": [
    "datasets_dir = 'train/'\n",
    "classes_list = os.listdir(datasets_dir)\n",
    "\n",
    "base_dir = ''\n",
    "\n",
    "train_dir = base_dir + 'train'\n",
    "val_dir = base_dir + 'val'\n",
    "test_dir = base_dir + 'test'\n",
    "print(os.path.isdir(train_dir))\n",
    "print(os.path.isdir(val_dir))\n",
    "print(os.path.isdir(test_dir))"
   ]
  },
  {
   "cell_type": "code",
   "execution_count": 3,
   "metadata": {},
   "outputs": [
    {
     "ename": "ModuleNotFoundError",
     "evalue": "No module named 'torch'",
     "output_type": "error",
     "traceback": [
      "\u001b[1;31m---------------------------------------------------------------------------\u001b[0m",
      "\u001b[1;31mModuleNotFoundError\u001b[0m                       Traceback (most recent call last)",
      "\u001b[1;32md:\\workspace\\simple_classsification\\202_train.ipynb Cell 3'\u001b[0m in \u001b[0;36m<cell line: 1>\u001b[1;34m()\u001b[0m\n\u001b[1;32m----> <a href='vscode-notebook-cell:/d%3A/workspace/simple_classsification/202_train.ipynb#ch0000002?line=0'>1</a>\u001b[0m \u001b[39mimport\u001b[39;00m \u001b[39mtorch\u001b[39;00m\n\u001b[0;32m      <a href='vscode-notebook-cell:/d%3A/workspace/simple_classsification/202_train.ipynb#ch0000002?line=2'>3</a>\u001b[0m USE_CUDA \u001b[39m=\u001b[39m torch\u001b[39m.\u001b[39mcuda\u001b[39m.\u001b[39mis_available()\n\u001b[0;32m      <a href='vscode-notebook-cell:/d%3A/workspace/simple_classsification/202_train.ipynb#ch0000002?line=3'>4</a>\u001b[0m DEVICE \u001b[39m=\u001b[39m torch\u001b[39m.\u001b[39mdevice(\u001b[39m'\u001b[39m\u001b[39mcuda\u001b[39m\u001b[39m'\u001b[39m \u001b[39mif\u001b[39;00m USE_CUDA \u001b[39melse\u001b[39;00m \u001b[39m'\u001b[39m\u001b[39mcpu\u001b[39m\u001b[39m'\u001b[39m)\n",
      "\u001b[1;31mModuleNotFoundError\u001b[0m: No module named 'torch'"
     ]
    }
   ],
   "source": [
    "import torch\n",
    "\n",
    "USE_CUDA = torch.cuda.is_available()\n",
    "DEVICE = torch.device('cuda' if USE_CUDA else 'cpu')\n",
    "\n",
    "BATCH_SIZE = 1024\n",
    "EPOCH = 30\n",
    "\n",
    "print(torch.__version__)\n",
    "print(DEVICE)"
   ]
  },
  {
   "cell_type": "code",
   "execution_count": 5,
   "metadata": {},
   "outputs": [
    {
     "data": {
      "text/plain": [
       "device(type='cuda')"
      ]
     },
     "execution_count": 5,
     "metadata": {},
     "output_type": "execute_result"
    }
   ],
   "source": [
    "DEVICE"
   ]
  },
  {
   "cell_type": "code",
   "execution_count": 7,
   "metadata": {},
   "outputs": [
    {
     "ename": "ModuleNotFoundError",
     "evalue": "No module named 'torchvision'",
     "output_type": "error",
     "traceback": [
      "\u001b[1;31m---------------------------------------------------------------------------\u001b[0m",
      "\u001b[1;31mModuleNotFoundError\u001b[0m                       Traceback (most recent call last)",
      "\u001b[1;32md:\\workspace\\simple_classsification\\202_train.ipynb Cell 5'\u001b[0m in \u001b[0;36m<cell line: 1>\u001b[1;34m()\u001b[0m\n\u001b[1;32m----> <a href='vscode-notebook-cell:/d%3A/workspace/simple_classsification/202_train.ipynb#ch0000004?line=0'>1</a>\u001b[0m \u001b[39mimport\u001b[39;00m \u001b[39mtorchvision\u001b[39;00m\u001b[39m.\u001b[39;00m\u001b[39mtransforms\u001b[39;00m \u001b[39mas\u001b[39;00m \u001b[39mtransforms\u001b[39;00m\n\u001b[0;32m      <a href='vscode-notebook-cell:/d%3A/workspace/simple_classsification/202_train.ipynb#ch0000004?line=1'>2</a>\u001b[0m \u001b[39mfrom\u001b[39;00m \u001b[39mtorchvision\u001b[39;00m\u001b[39m.\u001b[39;00m\u001b[39mdatasets\u001b[39;00m \u001b[39mimport\u001b[39;00m ImageFolder \u001b[39m# 무슨 모듈?\u001b[39;00m\n\u001b[0;32m      <a href='vscode-notebook-cell:/d%3A/workspace/simple_classsification/202_train.ipynb#ch0000004?line=3'>4</a>\u001b[0m \u001b[39m# compose는 이미지 전처리, 증강등에 이용되는 메소드이다. \u001b[39;00m\n\u001b[0;32m      <a href='vscode-notebook-cell:/d%3A/workspace/simple_classsification/202_train.ipynb#ch0000004?line=4'>5</a>\u001b[0m \u001b[39m# 이미지 크기, 그리고 데이터형식(Tensor형태)로 변환해 준다.\u001b[39;00m\n",
      "\u001b[1;31mModuleNotFoundError\u001b[0m: No module named 'torchvision'"
     ]
    }
   ],
   "source": [
    "import torchvision.transforms as transforms\n",
    "from torchvision.datasets import ImageFolder # 무슨 모듈?\n",
    "\n",
    "# compose는 이미지 전처리, 증강등에 이용되는 메소드이다. \n",
    "# 이미지 크기, 그리고 데이터형식(Tensor형태)로 변환해 준다.\n",
    "transform_base = transforms.Compose([transforms.Resize((64,64)), transforms.ToTensor()]) # 형식을 지정하는 듯 하다\n",
    "\n",
    "# 폴더 이름을 클래스이름으로 사용할 때 ImageFolder를 사용한다. transform은 데이터를 불러온 후 전처리, 증강을 위한 방법을 지정한다. 앞에서 정의한 것을 지정한다\n",
    "train_ds = ImageFolder(root='datasets/plant_splitted/train/', transform=transform_base)\n",
    "val_ds = ImageFolder(root='datasets/plant_splitted/val/', transform=transform_base)"
   ]
  },
  {
   "cell_type": "code",
   "execution_count": 6,
   "metadata": {},
   "outputs": [
    {
     "name": "stdout",
     "output_type": "stream",
     "text": [
      "(413, 256, 256, 3) (413,)\n"
     ]
    }
   ],
   "source": [
    "print(ind_val.shape, dep_val.shape)"
   ]
  },
  {
   "cell_type": "code",
   "execution_count": 7,
   "metadata": {},
   "outputs": [
    {
     "name": "stdout",
     "output_type": "stream",
     "text": [
      "(413, 256, 256, 3) (413, 3)\n"
     ]
    }
   ],
   "source": [
    "ind_val = ind_val.reshape(413, 256, 256, 3)\n",
    "# 종속 = pd.get_dummies(종속)\n",
    "dep_val = pd.get_dummies(dep_val) # 다행히 1차원\n",
    "# dep_val = dep_val.reshape(990, 7)\n",
    "print(ind_val.shape, dep_val.shape)\n",
    "    # (990, 64, 64, 3) (990, 7) <늘수록 바뀜"
   ]
  },
  {
   "cell_type": "code",
   "execution_count": 8,
   "metadata": {},
   "outputs": [
    {
     "ename": "ResourceExhaustedError",
     "evalue": "failed to allocate memory [Op:AddV2]",
     "output_type": "error",
     "traceback": [
      "\u001b[1;31m---------------------------------------------------------------------------\u001b[0m",
      "\u001b[1;31mResourceExhaustedError\u001b[0m                    Traceback (most recent call last)",
      "\u001b[1;32md:\\workspace\\simple_classsification\\202_train.ipynb Cell 8'\u001b[0m in \u001b[0;36m<cell line: 11>\u001b[1;34m()\u001b[0m\n\u001b[0;32m      <a href='vscode-notebook-cell:/d%3A/workspace/simple_classsification/202_train.ipynb#ch0000007?line=6'>7</a>\u001b[0m \u001b[39m# HS4 = tf.keras.layers.MaxPool2D()(Y)\u001b[39;00m\n\u001b[0;32m      <a href='vscode-notebook-cell:/d%3A/workspace/simple_classsification/202_train.ipynb#ch0000007?line=8'>9</a>\u001b[0m Y \u001b[39m=\u001b[39m tf\u001b[39m.\u001b[39mkeras\u001b[39m.\u001b[39mlayers\u001b[39m.\u001b[39mFlatten()(Y)\n\u001b[1;32m---> <a href='vscode-notebook-cell:/d%3A/workspace/simple_classsification/202_train.ipynb#ch0000007?line=10'>11</a>\u001b[0m Y \u001b[39m=\u001b[39m tf\u001b[39m.\u001b[39;49mkeras\u001b[39m.\u001b[39;49mlayers\u001b[39m.\u001b[39;49mDense(units\u001b[39m=\u001b[39;49m\u001b[39m360\u001b[39;49m, activation\u001b[39m=\u001b[39;49m\u001b[39m'\u001b[39;49m\u001b[39mswish\u001b[39;49m\u001b[39m'\u001b[39;49m)(Y)\n\u001b[0;32m     <a href='vscode-notebook-cell:/d%3A/workspace/simple_classsification/202_train.ipynb#ch0000007?line=11'>12</a>\u001b[0m \u001b[39m# Y = tf.keras.layers.Dense(units=450, activation='swish')(Y)\u001b[39;00m\n\u001b[0;32m     <a href='vscode-notebook-cell:/d%3A/workspace/simple_classsification/202_train.ipynb#ch0000007?line=12'>13</a>\u001b[0m \u001b[39m# Y = tf.keras.layers.Dense(units=100, activation='swish')(Y)\u001b[39;00m\n\u001b[0;32m     <a href='vscode-notebook-cell:/d%3A/workspace/simple_classsification/202_train.ipynb#ch0000007?line=13'>14</a>\u001b[0m Y \u001b[39m=\u001b[39m tf\u001b[39m.\u001b[39mkeras\u001b[39m.\u001b[39mlayers\u001b[39m.\u001b[39mDense(units\u001b[39m=\u001b[39m\u001b[39m27\u001b[39m, activation\u001b[39m=\u001b[39m\u001b[39m'\u001b[39m\u001b[39mswish\u001b[39m\u001b[39m'\u001b[39m)(Y)\n",
      "File \u001b[1;32mc:\\Users\\bamto\\anaconda3\\envs\\tuto_haar\\lib\\site-packages\\keras\\utils\\traceback_utils.py:67\u001b[0m, in \u001b[0;36mfilter_traceback.<locals>.error_handler\u001b[1;34m(*args, **kwargs)\u001b[0m\n\u001b[0;32m     <a href='file:///c%3A/Users/bamto/anaconda3/envs/tuto_haar/lib/site-packages/keras/utils/traceback_utils.py?line=64'>65</a>\u001b[0m \u001b[39mexcept\u001b[39;00m \u001b[39mException\u001b[39;00m \u001b[39mas\u001b[39;00m e:  \u001b[39m# pylint: disable=broad-except\u001b[39;00m\n\u001b[0;32m     <a href='file:///c%3A/Users/bamto/anaconda3/envs/tuto_haar/lib/site-packages/keras/utils/traceback_utils.py?line=65'>66</a>\u001b[0m   filtered_tb \u001b[39m=\u001b[39m _process_traceback_frames(e\u001b[39m.\u001b[39m__traceback__)\n\u001b[1;32m---> <a href='file:///c%3A/Users/bamto/anaconda3/envs/tuto_haar/lib/site-packages/keras/utils/traceback_utils.py?line=66'>67</a>\u001b[0m   \u001b[39mraise\u001b[39;00m e\u001b[39m.\u001b[39mwith_traceback(filtered_tb) \u001b[39mfrom\u001b[39;00m \u001b[39mNone\u001b[39m\n\u001b[0;32m     <a href='file:///c%3A/Users/bamto/anaconda3/envs/tuto_haar/lib/site-packages/keras/utils/traceback_utils.py?line=67'>68</a>\u001b[0m \u001b[39mfinally\u001b[39;00m:\n\u001b[0;32m     <a href='file:///c%3A/Users/bamto/anaconda3/envs/tuto_haar/lib/site-packages/keras/utils/traceback_utils.py?line=68'>69</a>\u001b[0m   \u001b[39mdel\u001b[39;00m filtered_tb\n",
      "File \u001b[1;32mc:\\Users\\bamto\\anaconda3\\envs\\tuto_haar\\lib\\site-packages\\keras\\backend.py:1831\u001b[0m, in \u001b[0;36mRandomGenerator.random_uniform\u001b[1;34m(self, shape, minval, maxval, dtype)\u001b[0m\n\u001b[0;32m   <a href='file:///c%3A/Users/bamto/anaconda3/envs/tuto_haar/lib/site-packages/keras/backend.py?line=1827'>1828</a>\u001b[0m \u001b[39mif\u001b[39;00m \u001b[39mself\u001b[39m\u001b[39m.\u001b[39m_generator:\n\u001b[0;32m   <a href='file:///c%3A/Users/bamto/anaconda3/envs/tuto_haar/lib/site-packages/keras/backend.py?line=1828'>1829</a>\u001b[0m   \u001b[39mreturn\u001b[39;00m \u001b[39mself\u001b[39m\u001b[39m.\u001b[39m_generator\u001b[39m.\u001b[39muniform(\n\u001b[0;32m   <a href='file:///c%3A/Users/bamto/anaconda3/envs/tuto_haar/lib/site-packages/keras/backend.py?line=1829'>1830</a>\u001b[0m       shape\u001b[39m=\u001b[39mshape, minval\u001b[39m=\u001b[39mminval, maxval\u001b[39m=\u001b[39mmaxval, dtype\u001b[39m=\u001b[39mdtype)\n\u001b[1;32m-> <a href='file:///c%3A/Users/bamto/anaconda3/envs/tuto_haar/lib/site-packages/keras/backend.py?line=1830'>1831</a>\u001b[0m \u001b[39mreturn\u001b[39;00m tf\u001b[39m.\u001b[39;49mrandom\u001b[39m.\u001b[39;49muniform(\n\u001b[0;32m   <a href='file:///c%3A/Users/bamto/anaconda3/envs/tuto_haar/lib/site-packages/keras/backend.py?line=1831'>1832</a>\u001b[0m     shape\u001b[39m=\u001b[39;49mshape, minval\u001b[39m=\u001b[39;49mminval, maxval\u001b[39m=\u001b[39;49mmaxval, dtype\u001b[39m=\u001b[39;49mdtype,\n\u001b[0;32m   <a href='file:///c%3A/Users/bamto/anaconda3/envs/tuto_haar/lib/site-packages/keras/backend.py?line=1832'>1833</a>\u001b[0m     seed\u001b[39m=\u001b[39;49m\u001b[39mself\u001b[39;49m\u001b[39m.\u001b[39;49mmake_legacy_seed())\n",
      "\u001b[1;31mResourceExhaustedError\u001b[0m: failed to allocate memory [Op:AddV2]"
     ]
    }
   ],
   "source": [
    "X = tf.keras.layers.Input(shape=[256, 256, 3])\n",
    "\n",
    "Y = tf.keras.layers.Conv2D(filters=8, kernel_size=3, dilation_rate=1, activation='swish')(X)\n",
    "# HS2 = tf.keras.layers.MaxPool2D()(Y)\n",
    "\n",
    "Y = tf.keras.layers.Conv2D(filters=20, kernel_size=3, activation='swish')(Y)\n",
    "# HS4 = tf.keras.layers.MaxPool2D()(Y)\n",
    "\n",
    "Y = tf.keras.layers.Flatten()(Y)\n",
    "\n",
    "Y = tf.keras.layers.Dense(units=360, activation='swish')(Y)\n",
    "# Y = tf.keras.layers.Dense(units=450, activation='swish')(Y)\n",
    "# Y = tf.keras.layers.Dense(units=100, activation='swish')(Y)\n",
    "Y = tf.keras.layers.Dense(units=27, activation='swish')(Y)\n",
    "\n",
    "Y = tf.keras.layers.Dense(units=3, activation='softmax')(Y)\n",
    "\n",
    "model = tf.keras.models.Model(X, Y)"
   ]
  },
  {
   "cell_type": "code",
   "execution_count": 32,
   "metadata": {},
   "outputs": [],
   "source": [
    "model.compile(loss='categorical_crossentropy', metrics='accuracy')"
   ]
  },
  {
   "cell_type": "code",
   "execution_count": 33,
   "metadata": {},
   "outputs": [
    {
     "ename": "ValueError",
     "evalue": "Failed to find data adapter that can handle input: <class 'numpy.ndarray'>, <class 'pandas.core.frame.DataFrame'>",
     "output_type": "error",
     "traceback": [
      "\u001b[1;31m---------------------------------------------------------------------------\u001b[0m",
      "\u001b[1;31mValueError\u001b[0m                                Traceback (most recent call last)",
      "\u001b[1;32md:\\workspace\\simple_classsification\\202_train.ipynb Cell 10'\u001b[0m in \u001b[0;36m<cell line: 1>\u001b[1;34m()\u001b[0m\n\u001b[1;32m----> <a href='vscode-notebook-cell:/d%3A/workspace/simple_classsification/202_train.ipynb#ch0000008?line=0'>1</a>\u001b[0m model\u001b[39m.\u001b[39;49mfit(ind_val, dep_val, epochs\u001b[39m=\u001b[39;49m\u001b[39m10\u001b[39;49m)\n",
      "File \u001b[1;32mc:\\Users\\bamto\\anaconda3\\envs\\tuto_haar\\lib\\site-packages\\keras\\utils\\traceback_utils.py:67\u001b[0m, in \u001b[0;36mfilter_traceback.<locals>.error_handler\u001b[1;34m(*args, **kwargs)\u001b[0m\n\u001b[0;32m     <a href='file:///c%3A/Users/bamto/anaconda3/envs/tuto_haar/lib/site-packages/keras/utils/traceback_utils.py?line=64'>65</a>\u001b[0m \u001b[39mexcept\u001b[39;00m \u001b[39mException\u001b[39;00m \u001b[39mas\u001b[39;00m e:  \u001b[39m# pylint: disable=broad-except\u001b[39;00m\n\u001b[0;32m     <a href='file:///c%3A/Users/bamto/anaconda3/envs/tuto_haar/lib/site-packages/keras/utils/traceback_utils.py?line=65'>66</a>\u001b[0m   filtered_tb \u001b[39m=\u001b[39m _process_traceback_frames(e\u001b[39m.\u001b[39m__traceback__)\n\u001b[1;32m---> <a href='file:///c%3A/Users/bamto/anaconda3/envs/tuto_haar/lib/site-packages/keras/utils/traceback_utils.py?line=66'>67</a>\u001b[0m   \u001b[39mraise\u001b[39;00m e\u001b[39m.\u001b[39mwith_traceback(filtered_tb) \u001b[39mfrom\u001b[39;00m \u001b[39mNone\u001b[39m\n\u001b[0;32m     <a href='file:///c%3A/Users/bamto/anaconda3/envs/tuto_haar/lib/site-packages/keras/utils/traceback_utils.py?line=67'>68</a>\u001b[0m \u001b[39mfinally\u001b[39;00m:\n\u001b[0;32m     <a href='file:///c%3A/Users/bamto/anaconda3/envs/tuto_haar/lib/site-packages/keras/utils/traceback_utils.py?line=68'>69</a>\u001b[0m   \u001b[39mdel\u001b[39;00m filtered_tb\n",
      "File \u001b[1;32mc:\\Users\\bamto\\anaconda3\\envs\\tuto_haar\\lib\\site-packages\\keras\\engine\\data_adapter.py:988\u001b[0m, in \u001b[0;36mselect_data_adapter\u001b[1;34m(x, y)\u001b[0m\n\u001b[0;32m    <a href='file:///c%3A/Users/bamto/anaconda3/envs/tuto_haar/lib/site-packages/keras/engine/data_adapter.py?line=984'>985</a>\u001b[0m adapter_cls \u001b[39m=\u001b[39m [\u001b[39mcls\u001b[39m \u001b[39mfor\u001b[39;00m \u001b[39mcls\u001b[39m \u001b[39min\u001b[39;00m ALL_ADAPTER_CLS \u001b[39mif\u001b[39;00m \u001b[39mcls\u001b[39m\u001b[39m.\u001b[39mcan_handle(x, y)]\n\u001b[0;32m    <a href='file:///c%3A/Users/bamto/anaconda3/envs/tuto_haar/lib/site-packages/keras/engine/data_adapter.py?line=985'>986</a>\u001b[0m \u001b[39mif\u001b[39;00m \u001b[39mnot\u001b[39;00m adapter_cls:\n\u001b[0;32m    <a href='file:///c%3A/Users/bamto/anaconda3/envs/tuto_haar/lib/site-packages/keras/engine/data_adapter.py?line=986'>987</a>\u001b[0m   \u001b[39m# TODO(scottzhu): This should be a less implementation-specific error.\u001b[39;00m\n\u001b[1;32m--> <a href='file:///c%3A/Users/bamto/anaconda3/envs/tuto_haar/lib/site-packages/keras/engine/data_adapter.py?line=987'>988</a>\u001b[0m   \u001b[39mraise\u001b[39;00m \u001b[39mValueError\u001b[39;00m(\n\u001b[0;32m    <a href='file:///c%3A/Users/bamto/anaconda3/envs/tuto_haar/lib/site-packages/keras/engine/data_adapter.py?line=988'>989</a>\u001b[0m       \u001b[39m\"\u001b[39m\u001b[39mFailed to find data adapter that can handle \u001b[39m\u001b[39m\"\u001b[39m\n\u001b[0;32m    <a href='file:///c%3A/Users/bamto/anaconda3/envs/tuto_haar/lib/site-packages/keras/engine/data_adapter.py?line=989'>990</a>\u001b[0m       \u001b[39m\"\u001b[39m\u001b[39minput: \u001b[39m\u001b[39m{}\u001b[39;00m\u001b[39m, \u001b[39m\u001b[39m{}\u001b[39;00m\u001b[39m\"\u001b[39m\u001b[39m.\u001b[39mformat(\n\u001b[0;32m    <a href='file:///c%3A/Users/bamto/anaconda3/envs/tuto_haar/lib/site-packages/keras/engine/data_adapter.py?line=990'>991</a>\u001b[0m           _type_name(x), _type_name(y)))\n\u001b[0;32m    <a href='file:///c%3A/Users/bamto/anaconda3/envs/tuto_haar/lib/site-packages/keras/engine/data_adapter.py?line=991'>992</a>\u001b[0m \u001b[39melif\u001b[39;00m \u001b[39mlen\u001b[39m(adapter_cls) \u001b[39m>\u001b[39m \u001b[39m1\u001b[39m:\n\u001b[0;32m    <a href='file:///c%3A/Users/bamto/anaconda3/envs/tuto_haar/lib/site-packages/keras/engine/data_adapter.py?line=992'>993</a>\u001b[0m   \u001b[39mraise\u001b[39;00m \u001b[39mRuntimeError\u001b[39;00m(\n\u001b[0;32m    <a href='file:///c%3A/Users/bamto/anaconda3/envs/tuto_haar/lib/site-packages/keras/engine/data_adapter.py?line=993'>994</a>\u001b[0m       \u001b[39m\"\u001b[39m\u001b[39mData adapters should be mutually exclusive for \u001b[39m\u001b[39m\"\u001b[39m\n\u001b[0;32m    <a href='file:///c%3A/Users/bamto/anaconda3/envs/tuto_haar/lib/site-packages/keras/engine/data_adapter.py?line=994'>995</a>\u001b[0m       \u001b[39m\"\u001b[39m\u001b[39mhandling inputs. Found multiple adapters \u001b[39m\u001b[39m{}\u001b[39;00m\u001b[39m to handle \u001b[39m\u001b[39m\"\u001b[39m\n\u001b[0;32m    <a href='file:///c%3A/Users/bamto/anaconda3/envs/tuto_haar/lib/site-packages/keras/engine/data_adapter.py?line=995'>996</a>\u001b[0m       \u001b[39m\"\u001b[39m\u001b[39minput: \u001b[39m\u001b[39m{}\u001b[39;00m\u001b[39m, \u001b[39m\u001b[39m{}\u001b[39;00m\u001b[39m\"\u001b[39m\u001b[39m.\u001b[39mformat(\n\u001b[0;32m    <a href='file:///c%3A/Users/bamto/anaconda3/envs/tuto_haar/lib/site-packages/keras/engine/data_adapter.py?line=996'>997</a>\u001b[0m           adapter_cls, _type_name(x), _type_name(y)))\n",
      "\u001b[1;31mValueError\u001b[0m: Failed to find data adapter that can handle input: <class 'numpy.ndarray'>, <class 'pandas.core.frame.DataFrame'>"
     ]
    }
   ],
   "source": [
    "model.fit(ind_val, dep_val, epochs=10)"
   ]
  },
  {
   "cell_type": "code",
   "execution_count": null,
   "metadata": {},
   "outputs": [],
   "source": []
  }
 ],
 "metadata": {
  "interpreter": {
   "hash": "b7e1483ac496c45d69632362f21d288700f1cfa308fc9f4473cd0e47645e6161"
  },
  "kernelspec": {
   "display_name": "Python 3.8.13 ('torch_study')",
   "language": "python",
   "name": "python3"
  },
  "language_info": {
   "codemirror_mode": {
    "name": "ipython",
    "version": 3
   },
   "file_extension": ".py",
   "mimetype": "text/x-python",
   "name": "python",
   "nbconvert_exporter": "python",
   "pygments_lexer": "ipython3",
   "version": "3.8.13"
  },
  "orig_nbformat": 4
 },
 "nbformat": 4,
 "nbformat_minor": 2
}
